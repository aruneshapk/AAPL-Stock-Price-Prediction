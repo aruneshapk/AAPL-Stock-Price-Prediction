{
 "cells": [
  {
   "cell_type": "code",
   "execution_count": 1,
   "metadata": {
    "_cell_guid": "b1076dfc-b9ad-4769-8c92-a6c4dae69d19",
    "_uuid": "8f2839f25d086af736a60e9eeb907d3b93b6e0e5"
   },
   "outputs": [],
   "source": [
 
    "\n",
    "import numpy as np # linear algebra\n",
    "import pandas as pd # data processing, CSV file I/O (e.g. pd.read_csv)\n",
    "\n",



   ]
  },
  {
   "cell_type": "code",
   "execution_count": 3,
   "metadata": {
    "_cell_guid": "79c7e3d0-c299-4dcb-8224-4455121ee9b0",
    "_uuid": "d629ff2d2480ee46fbb7e2d37f6b5fab8052498a"
   },
   "outputs": [],
   "source": [
    "# Import libraries\n",
    "\n",
    "import matplotlib.pyplot as plt\n",
    "import datetime\n",
    "\n",
    "# Import dataset\n",
    "\n",
    "df = pd.read_csv(r'C:\\Users\\91763\\Downloads\\Apple Stock Prediction-main/AAPL_stock.csv', index_col='Date', parse_dates=True)"
   ]
  },
  {
   "cell_type": "code",
   "execution_count": 4,
   "metadata": {},
   "outputs": [
    {
     "data": {
      "text/plain": [
       " Close/Last    False\n",
       " Volume        False\n",
       " Open          False\n",
       " High          False\n",
       " Low           False\n",
       "dtype: bool"
      ]
     },
     "execution_count": 4,
     "metadata": {},
     "output_type": "execute_result"
    }
   ],
   "source": [
    "# Test if missing values exist\n",
    "\n",
    "df.isna().any()"
   ]
  },
  {
   "cell_type": "code",
   "execution_count": 5,
   "metadata": {},
   "outputs": [
    {
     "name": "stdout",
     "output_type": "stream",
     "text": [
      "<class 'pandas.core.frame.DataFrame'>\n",
      "DatetimeIndex: 2518 entries, 2020-02-28 to 2010-03-01\n",
      "Data columns (total 5 columns):\n",
      " #   Column       Non-Null Count  Dtype \n",
      "---  ------       --------------  ----- \n",
      " 0    Close/Last  2518 non-null   object\n",
      " 1    Volume      2518 non-null   int64 \n",
      " 2    Open        2518 non-null   object\n",
      " 3    High        2518 non-null   object\n",
      " 4    Low         2518 non-null   object\n",
      "dtypes: int64(1), object(4)\n",
      "memory usage: 118.0+ KB\n"
     ]
    }
   ],
   "source": [
    "df.info()"
   ]
  },
  {
   "cell_type": "code",
   "execution_count": 6,
   "metadata": {},
   "outputs": [
    {
     "name": "stderr",
     "output_type": "stream",
     "text": [
      "C:\\Users\\91763\\AppData\\Local\\Temp/ipykernel_12852/1767733630.py:4: FutureWarning: The default value of regex will change from True to False in a future version. In addition, single character regular expressions will*not* be treated as literal strings when regex=True.\n",
      "  df['Close'] = df['Close'].str.replace('$', '').astype('float')\n",
      "C:\\Users\\91763\\AppData\\Local\\Temp/ipykernel_12852/1767733630.py:5: FutureWarning: The default value of regex will change from True to False in a future version. In addition, single character regular expressions will*not* be treated as literal strings when regex=True.\n",
      "  df['Open'] = df['Open'].str.replace('$', '').astype('float')\n",
      "C:\\Users\\91763\\AppData\\Local\\Temp/ipykernel_12852/1767733630.py:6: FutureWarning: The default value of regex will change from True to False in a future version. In addition, single character regular expressions will*not* be treated as literal strings when regex=True.\n",
      "  df['High'] = df['High'].str.replace('$', '').astype('float')\n",
      "C:\\Users\\91763\\AppData\\Local\\Temp/ipykernel_12852/1767733630.py:7: FutureWarning: The default value of regex will change from True to False in a future version. In addition, single character regular expressions will*not* be treated as literal strings when regex=True.\n",
      "  df['Low'] = df['Low'].str.replace('$', '').astype('float')\n"
     ]
    },
    {
     "data": {
      "text/html": [
       "<div>\n",
       "<style scoped>\n",
       "    .dataframe tbody tr th:only-of-type {\n",
       "        vertical-align: middle;\n",
       "    }\n",
       "\n",
       "    .dataframe tbody tr th {\n",
       "        vertical-align: top;\n",
       "    }\n",
       "\n",
       "    .dataframe thead th {\n",
       "        text-align: right;\n",
       "    }\n",
       "</style>\n",
       "<table border=\"1\" class=\"dataframe\">\n",
       "  <thead>\n",
       "    <tr style=\"text-align: right;\">\n",
       "      <th></th>\n",
       "      <th>Close</th>\n",
       "      <th>Volume</th>\n",
       "      <th>Open</th>\n",
       "      <th>High</th>\n",
       "      <th>Low</th>\n",
       "    </tr>\n",
       "    <tr>\n",
       "      <th>Date</th>\n",
       "      <th></th>\n",
       "      <th></th>\n",
       "      <th></th>\n",
       "      <th></th>\n",
       "      <th></th>\n",
       "    </tr>\n",
       "  </thead>\n",
       "  <tbody>\n",
       "    <tr>\n",
       "      <th>2020-02-28</th>\n",
       "      <td>273.36</td>\n",
       "      <td>106721200</td>\n",
       "      <td>257.26</td>\n",
       "      <td>278.41</td>\n",
       "      <td>256.37</td>\n",
       "    </tr>\n",
       "    <tr>\n",
       "      <th>2020-02-27</th>\n",
       "      <td>273.52</td>\n",
       "      <td>80151380</td>\n",
       "      <td>281.10</td>\n",
       "      <td>286.00</td>\n",
       "      <td>272.96</td>\n",
       "    </tr>\n",
       "    <tr>\n",
       "      <th>2020-02-26</th>\n",
       "      <td>292.65</td>\n",
       "      <td>49678430</td>\n",
       "      <td>286.53</td>\n",
       "      <td>297.88</td>\n",
       "      <td>286.50</td>\n",
       "    </tr>\n",
       "    <tr>\n",
       "      <th>2020-02-25</th>\n",
       "      <td>288.08</td>\n",
       "      <td>57668360</td>\n",
       "      <td>300.95</td>\n",
       "      <td>302.53</td>\n",
       "      <td>286.13</td>\n",
       "    </tr>\n",
       "    <tr>\n",
       "      <th>2020-02-24</th>\n",
       "      <td>298.18</td>\n",
       "      <td>55548830</td>\n",
       "      <td>297.26</td>\n",
       "      <td>304.18</td>\n",
       "      <td>289.23</td>\n",
       "    </tr>\n",
       "  </tbody>\n",
       "</table>\n",
       "</div>"
      ],
      "text/plain": [
       "             Close     Volume    Open    High     Low\n",
       "Date                                                 \n",
       "2020-02-28  273.36  106721200  257.26  278.41  256.37\n",
       "2020-02-27  273.52   80151380  281.10  286.00  272.96\n",
       "2020-02-26  292.65   49678430  286.53  297.88  286.50\n",
       "2020-02-25  288.08   57668360  300.95  302.53  286.13\n",
       "2020-02-24  298.18   55548830  297.26  304.18  289.23"
      ]
     },
     "execution_count": 6,
     "metadata": {},
     "output_type": "execute_result"
    }
   ],
   "source": [
    "# Cleaning data\n",
    "\n",
    "df = df.rename(columns={' Close/Last':'Close', ' Volume':'Volume', ' Open': 'Open', ' High':'High', ' Low':'Low'})\n",
    "df['Close'] = df['Close'].str.replace('$', '').astype('float')\n",
    "df['Open'] = df['Open'].str.replace('$', '').astype('float')\n",
    "df['High'] = df['High'].str.replace('$', '').astype('float')\n",
    "df['Low'] = df['Low'].str.replace('$', '').astype('float')\n",
    "df.head()"
   ]
  },
  {
   "cell_type": "code",
   "execution_count": 7,
   "metadata": {},
   "outputs": [
    {
     "data": {
      "text/plain": [
       "Close     float64\n",
       "Volume      int64\n",
       "Open      float64\n",
       "High      float64\n",
       "Low       float64\n",
       "dtype: object"
      ]
     },
     "execution_count": 7,
     "metadata": {},
     "output_type": "execute_result"
    }
   ],
   "source": [
    "df.dtypes"
   ]
  },
  {
   "cell_type": "code",
   "execution_count": 8,
   "metadata": {},
   "outputs": [],
   "source": [
    "# Split training and testing datasets\n",
    "\n",
    "df_test = df.head(40)\n",
    "df = df[40:]"
   ]
  },
  {
   "cell_type": "code",
   "execution_count": 9,
   "metadata": {},
   "outputs": [
    {
     "data": {
      "text/plain": [
       "<AxesSubplot:xlabel='Date'>"
      ]
     },
     "execution_count": 9,
     "metadata": {},
     "output_type": "execute_result"
    },
    {
     "data": {
      "image/png": "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\n",
      "text/plain": [
       "<Figure size 1152x432 with 1 Axes>"
      ]
     },
     "metadata": {
      "needs_background": "light"
     },
     "output_type": "display_data"
    }
   ],
   "source": [
    "# Moving average\n",
    "\n",
    "df['Open'].plot(figsize=(16, 6))\n",
    "df.rolling(100).mean()['Open'].plot()"
   ]
  },
  {
   "cell_type": "code",
   "execution_count": 10,
   "metadata": {},
   "outputs": [],
   "source": [
    "training_df = df['Open']\n",
    "training_df = pd.DataFrame(training_df)"
   ]
  },
  {
   "cell_type": "code",
   "execution_count": 11,
   "metadata": {},
   "outputs": [],
   "source": [
    "# Feature scaling\n",
    "\n",
    "from sklearn.preprocessing import MinMaxScaler\n",
    "sc = MinMaxScaler(feature_range = (0,1))\n",
    "training_df_scaled = sc.fit_transform(training_df)"
   ]
  },
  {
   "cell_type": "code",
   "execution_count": 12,
   "metadata": {},
   "outputs": [
    {
     "data": {
      "text/plain": [
       "array([[[0.99545328],\n",
       "        [0.99365752],\n",
       "        [1.        ],\n",
       "        ...,\n",
       "        [0.75512671],\n",
       "        [0.75050358],\n",
       "        [0.75222293]],\n",
       "\n",
       "       [[0.99365752],\n",
       "        [1.        ],\n",
       "        [0.97592914],\n",
       "        ...,\n",
       "        [0.75050358],\n",
       "        [0.75222293],\n",
       "        [0.74981584]],\n",
       "\n",
       "       [[1.        ],\n",
       "        [0.97592914],\n",
       "        [0.97543243],\n",
       "        ...,\n",
       "        [0.75222293],\n",
       "        [0.74981584],\n",
       "        [0.72226807]],\n",
       "\n",
       "       ...,\n",
       "\n",
       "       [[0.02927705],\n",
       "        [0.02448045],\n",
       "        [0.02419657],\n",
       "        ...,\n",
       "        [0.00685561],\n",
       "        [0.00778368],\n",
       "        [0.00501629]],\n",
       "\n",
       "       [[0.02448045],\n",
       "        [0.02419657],\n",
       "        [0.01833971],\n",
       "        ...,\n",
       "        [0.00778368],\n",
       "        [0.00501629],\n",
       "        [0.00192682]],\n",
       "\n",
       "       [[0.02419657],\n",
       "        [0.01833971],\n",
       "        [0.02266826],\n",
       "        ...,\n",
       "        [0.00501629],\n",
       "        [0.00192682],\n",
       "        [0.00174151]]])"
      ]
     },
     "execution_count": 12,
     "metadata": {},
     "output_type": "execute_result"
    }
   ],
   "source": [
    "# Create structure with 60 timesteps and 1 output\n",
    "\n",
    "X_train = []\n",
    "y_train = []\n",
    "for i in range(60, 2477):\n",
    "    X_train.append(training_df_scaled[i-60:i, 0])\n",
    "    y_train.append(training_df_scaled[i, 0])\n",
    "X_train, y_train = np.array(X_train), np.array(y_train)\n",
    "\n",
    "\n",
    "# Reshape\n",
    "\n",
    "X_train = np.reshape(X_train, (X_train.shape[0], X_train.shape[1], 1))\n",
    "X_train"
   ]
  },
  {
   "cell_type": "code",
   "execution_count": 13,
   "metadata": {},
   "outputs": [],
   "source": [
    "# Import Keras\n",
    "\n",
    "from keras.models import Sequential\n",
    "from keras.layers import Dense\n",
    "from keras.layers import LSTM\n",
    "from keras.layers import Dropout"
   ]
  },
  {
   "cell_type": "code",
   "execution_count": 14,
   "metadata": {},
   "outputs": [],
   "source": [
    "# Initialize RNN\n",
    "\n",
    "regressor = Sequential()"
   ]
  },
  {
   "cell_type": "code",
   "execution_count": 15,
   "metadata": {},
   "outputs": [],
   "source": [
    "# First LSTM layer\n",
    "\n",
    "regressor.add(LSTM(units = 50, return_sequences = True, input_shape = (X_train.shape[1], 1)))\n",
    "regressor.add(Dropout(0.2))\n",
    "\n",
    "\n",
    "# Second LSTM layer\n",
    "\n",
    "regressor.add(LSTM(units = 50, return_sequences = True))\n",
    "regressor.add(Dropout(0.2))\n",
    "\n",
    "\n",
    "# Thirs LSTM layer\n",
    "\n",
    "regressor.add(LSTM(units = 50, return_sequences = True))\n",
    "regressor.add(Dropout(0.2))\n",
    "\n",
    "\n",
    "# Fourth LSTM layer\n",
    "\n",
    "regressor.add(LSTM(units = 50))\n",
    "regressor.add(Dropout(0.2))\n",
    "\n",
    "              \n",
    "# Output layer\n",
    "\n",
    "regressor.add(Dense(units = 1))"
   ]
  },
  {
   "cell_type": "code",
   "execution_count": 16,
   "metadata": {},
   "outputs": [
    {
     "name": "stdout",
     "output_type": "stream",
     "text": [
      "Epoch 1/100\n",
      "76/76 [==============================] - 18s 48ms/step - loss: 0.0309\n",
      "Epoch 2/100\n",
      "76/76 [==============================] - 4s 50ms/step - loss: 0.0022\n",
      "Epoch 3/100\n",
      "76/76 [==============================] - 4s 49ms/step - loss: 0.0020\n",
      "Epoch 4/100\n",
      "76/76 [==============================] - 4s 49ms/step - loss: 0.0021\n",
      "Epoch 5/100\n",
      "76/76 [==============================] - 4s 50ms/step - loss: 0.0019\n",
      "Epoch 6/100\n",
      "76/76 [==============================] - 4s 50ms/step - loss: 0.0015\n",
      "Epoch 7/100\n",
      "76/76 [==============================] - 4s 51ms/step - loss: 0.0016\n",
      "Epoch 8/100\n",
      "76/76 [==============================] - 4s 51ms/step - loss: 0.0014\n",
      "Epoch 9/100\n",
      "76/76 [==============================] - 4s 51ms/step - loss: 0.0014\n",
      "Epoch 10/100\n",
      "76/76 [==============================] - 4s 51ms/step - loss: 0.0013\n",
      "Epoch 11/100\n",
      "76/76 [==============================] - 4s 51ms/step - loss: 0.0012\n",
      "Epoch 12/100\n",
      "76/76 [==============================] - 4s 52ms/step - loss: 0.0012\n",
      "Epoch 13/100\n",
      "76/76 [==============================] - 4s 51ms/step - loss: 0.0012\n",
      "Epoch 14/100\n",
      "76/76 [==============================] - 4s 53ms/step - loss: 0.0013\n",
      "Epoch 15/100\n",
      "76/76 [==============================] - 4s 51ms/step - loss: 0.0010\n",
      "Epoch 16/100\n",
      "76/76 [==============================] - 4s 50ms/step - loss: 9.8252e-04\n",
      "Epoch 17/100\n",
      "76/76 [==============================] - 4s 51ms/step - loss: 9.4094e-04\n",
      "Epoch 18/100\n",
      "76/76 [==============================] - 4s 51ms/step - loss: 9.0575e-04\n",
      "Epoch 19/100\n",
      "76/76 [==============================] - 4s 51ms/step - loss: 8.8734e-04\n",
      "Epoch 20/100\n",
      "76/76 [==============================] - 4s 51ms/step - loss: 9.7305e-04\n",
      "Epoch 21/100\n",
      "76/76 [==============================] - 4s 55ms/step - loss: 9.6293e-04\n",
      "Epoch 22/100\n",
      "76/76 [==============================] - 5s 63ms/step - loss: 8.0506e-04\n",
      "Epoch 23/100\n",
      "76/76 [==============================] - 4s 58ms/step - loss: 8.9982e-04\n",
      "Epoch 24/100\n",
      "76/76 [==============================] - 4s 50ms/step - loss: 7.9891e-04\n",
      "Epoch 25/100\n",
      "76/76 [==============================] - 4s 51ms/step - loss: 9.0893e-04\n",
      "Epoch 26/100\n",
      "76/76 [==============================] - 4s 51ms/step - loss: 7.7168e-04\n",
      "Epoch 27/100\n",
      "76/76 [==============================] - 4s 50ms/step - loss: 7.2574e-04\n",
      "Epoch 28/100\n",
      "76/76 [==============================] - 4s 50ms/step - loss: 8.4145e-04\n",
      "Epoch 29/100\n",
      "76/76 [==============================] - 4s 51ms/step - loss: 8.0318e-04\n",
      "Epoch 30/100\n",
      "76/76 [==============================] - 5s 61ms/step - loss: 7.5248e-04\n",
      "Epoch 31/100\n",
      "76/76 [==============================] - 4s 57ms/step - loss: 7.0578e-04\n",
      "Epoch 32/100\n",
      "76/76 [==============================] - 4s 48ms/step - loss: 7.7007e-04\n",
      "Epoch 33/100\n",
      "76/76 [==============================] - 4s 48ms/step - loss: 6.8250e-04\n",
      "Epoch 34/100\n",
      "76/76 [==============================] - 4s 49ms/step - loss: 6.7470e-04\n",
      "Epoch 35/100\n",
      "76/76 [==============================] - 5s 60ms/step - loss: 6.7320e-04\n",
      "Epoch 36/100\n",
      "76/76 [==============================] - 4s 54ms/step - loss: 7.1522e-04\n",
      "Epoch 37/100\n",
      "76/76 [==============================] - 5s 61ms/step - loss: 6.7997e-04: 0s - l\n",
      "Epoch 38/100\n",
      "76/76 [==============================] - 4s 54ms/step - loss: 6.5472e-04\n",
      "Epoch 39/100\n",
      "76/76 [==============================] - 4s 49ms/step - loss: 6.2684e-04\n",
      "Epoch 40/100\n",
      "76/76 [==============================] - 4s 54ms/step - loss: 6.2235e-04\n",
      "Epoch 41/100\n",
      "76/76 [==============================] - 4s 58ms/step - loss: 5.7752e-04\n",
      "Epoch 42/100\n",
      "76/76 [==============================] - 4s 57ms/step - loss: 6.9099e-04\n",
      "Epoch 43/100\n",
      "76/76 [==============================] - 4s 55ms/step - loss: 6.9675e-04\n",
      "Epoch 44/100\n",
      "76/76 [==============================] - 4s 56ms/step - loss: 6.4685e-04\n",
      "Epoch 45/100\n",
      "76/76 [==============================] - 4s 48ms/step - loss: 5.6855e-04\n",
      "Epoch 46/100\n",
      "76/76 [==============================] - 4s 49ms/step - loss: 6.2809e-04: 1s - \n",
      "Epoch 47/100\n",
      "76/76 [==============================] - 4s 48ms/step - loss: 5.8010e-04\n",
      "Epoch 48/100\n",
      "76/76 [==============================] - 4s 48ms/step - loss: 5.4120e-04\n",
      "Epoch 49/100\n",
      "76/76 [==============================] - 4s 48ms/step - loss: 5.2790e-04\n",
      "Epoch 50/100\n",
      "76/76 [==============================] - 4s 48ms/step - loss: 5.7700e-04\n",
      "Epoch 51/100\n",
      "76/76 [==============================] - 4s 49ms/step - loss: 6.3041e-04: 1s - \n",
      "Epoch 52/100\n",
      "76/76 [==============================] - 4s 47ms/step - loss: 5.1919e-04: 1s - loss\n",
      "Epoch 53/100\n",
      "76/76 [==============================] - 4s 48ms/step - loss: 4.9164e-04\n",
      "Epoch 54/100\n",
      "76/76 [==============================] - 4s 48ms/step - loss: 5.3393e-04\n",
      "Epoch 55/100\n",
      "76/76 [==============================] - 4s 50ms/step - loss: 5.6770e-04\n",
      "Epoch 56/100\n",
      "76/76 [==============================] - 5s 60ms/step - loss: 5.7773e-04\n",
      "Epoch 57/100\n",
      "76/76 [==============================] - 4s 53ms/step - loss: 6.1182e-04\n",
      "Epoch 58/100\n",
      "76/76 [==============================] - 4s 53ms/step - loss: 5.8126e-04\n",
      "Epoch 59/100\n",
      "76/76 [==============================] - 4s 54ms/step - loss: 4.2897e-04\n",
      "Epoch 60/100\n",
      "76/76 [==============================] - 4s 54ms/step - loss: 4.2918e-04\n",
      "Epoch 61/100\n",
      "76/76 [==============================] - 4s 54ms/step - loss: 7.1996e-04\n",
      "Epoch 62/100\n",
      "76/76 [==============================] - 4s 54ms/step - loss: 5.0245e-04\n",
      "Epoch 63/100\n",
      "76/76 [==============================] - 4s 54ms/step - loss: 5.3625e-04\n",
      "Epoch 64/100\n",
      "76/76 [==============================] - 4s 52ms/step - loss: 5.3414e-04\n",
      "Epoch 65/100\n",
      "76/76 [==============================] - 4s 51ms/step - loss: 5.1677e-04\n",
      "Epoch 66/100\n",
      "76/76 [==============================] - 4s 51ms/step - loss: 4.9529e-04\n",
      "Epoch 67/100\n",
      "76/76 [==============================] - 4s 51ms/step - loss: 5.1676e-04\n",
      "Epoch 68/100\n",
      "76/76 [==============================] - 4s 51ms/step - loss: 4.7646e-04\n",
      "Epoch 69/100\n",
      "76/76 [==============================] - 4s 51ms/step - loss: 6.5757e-04\n",
      "Epoch 70/100\n",
      "76/76 [==============================] - 4s 51ms/step - loss: 4.6109e-04\n",
      "Epoch 71/100\n",
      "76/76 [==============================] - 4s 51ms/step - loss: 4.8138e-04\n",
      "Epoch 72/100\n",
      "76/76 [==============================] - 4s 51ms/step - loss: 4.8232e-04\n",
      "Epoch 73/100\n",
      "76/76 [==============================] - 4s 52ms/step - loss: 4.6832e-04\n",
      "Epoch 74/100\n",
      "76/76 [==============================] - 4s 51ms/step - loss: 5.2235e-04\n",
      "Epoch 75/100\n",
      "76/76 [==============================] - 4s 51ms/step - loss: 4.7267e-04\n",
      "Epoch 76/100\n",
      "76/76 [==============================] - 4s 52ms/step - loss: 4.8884e-04\n",
      "Epoch 77/100\n",
      "76/76 [==============================] - 4s 51ms/step - loss: 5.2222e-04\n",
      "Epoch 78/100\n",
      "76/76 [==============================] - 4s 51ms/step - loss: 4.3564e-04\n",
      "Epoch 79/100\n",
      "76/76 [==============================] - 4s 51ms/step - loss: 5.1268e-04\n",
      "Epoch 80/100\n",
      "76/76 [==============================] - 4s 51ms/step - loss: 4.5785e-04\n",
      "Epoch 81/100\n",
      "76/76 [==============================] - 4s 51ms/step - loss: 4.4254e-04\n",
      "Epoch 82/100\n",
      "76/76 [==============================] - 4s 51ms/step - loss: 5.9135e-04\n",
      "Epoch 83/100\n",
      "76/76 [==============================] - 4s 51ms/step - loss: 5.4708e-04\n",
      "Epoch 84/100\n",
      "76/76 [==============================] - 4s 51ms/step - loss: 4.7386e-04\n",
      "Epoch 85/100\n",
      "76/76 [==============================] - 4s 51ms/step - loss: 4.7933e-04\n",
      "Epoch 86/100\n",
      "76/76 [==============================] - 4s 52ms/step - loss: 5.4960e-04\n",
      "Epoch 87/100\n",
      "76/76 [==============================] - 4s 52ms/step - loss: 4.5220e-04\n",
      "Epoch 88/100\n",
      "76/76 [==============================] - 4s 56ms/step - loss: 4.4884e-04\n",
      "Epoch 89/100\n",
      "76/76 [==============================] - 4s 58ms/step - loss: 5.6261e-04\n",
      "Epoch 90/100\n",
      "76/76 [==============================] - 4s 59ms/step - loss: 4.5668e-04\n",
      "Epoch 91/100\n",
      "76/76 [==============================] - 4s 54ms/step - loss: 4.6352e-04\n",
      "Epoch 92/100\n",
      "76/76 [==============================] - 4s 53ms/step - loss: 5.0171e-04\n",
      "Epoch 93/100\n",
      "76/76 [==============================] - 4s 53ms/step - loss: 4.5326e-04\n",
      "Epoch 94/100\n",
      "76/76 [==============================] - 4s 53ms/step - loss: 4.5532e-04\n",
      "Epoch 95/100\n",
      "76/76 [==============================] - 4s 53ms/step - loss: 4.6644e-04\n",
      "Epoch 96/100\n"
     ]
    },
    {
     "name": "stdout",
     "output_type": "stream",
     "text": [
      "76/76 [==============================] - 4s 51ms/step - loss: 4.5451e-04\n",
      "Epoch 97/100\n",
      "76/76 [==============================] - 4s 51ms/step - loss: 4.7079e-04\n",
      "Epoch 98/100\n",
      "76/76 [==============================] - 4s 51ms/step - loss: 4.7206e-04\n",
      "Epoch 99/100\n",
      "76/76 [==============================] - 4s 51ms/step - loss: 4.6823e-04\n",
      "Epoch 100/100\n",
      "76/76 [==============================] - 4s 50ms/step - loss: 4.3630e-04\n"
     ]
    },
    {
     "data": {
      "text/plain": [
       "<keras.callbacks.History at 0x1f05c74c6d0>"
      ]
     },
     "execution_count": 16,
     "metadata": {},
     "output_type": "execute_result"
    }
   ],
   "source": [
    "# Compile RNN\n",
    "\n",
    "regressor.compile(optimizer = 'adam', loss = 'mean_squared_error')\n",
    "\n",
    "\n",
    "# Fit RNN\n",
    "\n",
    "regressor.fit(X_train, y_train, epochs = 100, batch_size = 32)"
   ]
  },
  {
   "cell_type": "code",
   "execution_count": 17,
   "metadata": {},
   "outputs": [
    {
     "data": {
      "text/plain": [
       "array([257.26 , 281.1  , 286.53 , 300.95 , 297.26 , 318.62 , 322.63 ,\n",
       "       320.   , 315.36 , 324.74 , 324.19 , 321.47 , 323.6  , 314.18 ,\n",
       "       322.37 , 322.57 , 323.52 , 315.31 , 304.3  , 320.93 , 320.544,\n",
       "       324.45 , 312.6  , 310.06 , 320.25 , 317.92 , 318.58 , 317.19 ,\n",
       "       316.27 , 313.59 , 311.85 , 316.7  , 311.64 , 310.6  , 307.235,\n",
       "       297.16 , 299.84 , 293.79 , 297.15 , 296.24 ])"
      ]
     },
     "execution_count": 17,
     "metadata": {},
     "output_type": "execute_result"
    }
   ],
   "source": [
    "real_stock_price = df_test['Open'].values\n",
    "real_stock_price"
   ]
  },
  {
   "cell_type": "code",
   "execution_count": 18,
   "metadata": {},
   "outputs": [
    {
     "name": "stdout",
     "output_type": "stream",
     "text": [
      "<class 'pandas.core.frame.DataFrame'>\n",
      "DatetimeIndex: 40 entries, 2020-02-28 to 2020-01-02\n",
      "Data columns (total 5 columns):\n",
      " #   Column  Non-Null Count  Dtype  \n",
      "---  ------  --------------  -----  \n",
      " 0   Close   40 non-null     float64\n",
      " 1   Volume  40 non-null     int64  \n",
      " 2   Open    40 non-null     float64\n",
      " 3   High    40 non-null     float64\n",
      " 4   Low     40 non-null     float64\n",
      "dtypes: float64(4), int64(1)\n",
      "memory usage: 1.9 KB\n"
     ]
    }
   ],
   "source": [
    "df_test.info()"
   ]
  },
  {
   "cell_type": "code",
   "execution_count": 19,
   "metadata": {},
   "outputs": [
    {
     "name": "stdout",
     "output_type": "stream",
     "text": [
      "<class 'pandas.core.frame.DataFrame'>\n",
      "DatetimeIndex: 40 entries, 2020-02-28 to 2020-01-02\n",
      "Data columns (total 1 columns):\n",
      " #   Column  Non-Null Count  Dtype  \n",
      "---  ------  --------------  -----  \n",
      " 0   Open    40 non-null     float64\n",
      "dtypes: float64(1)\n",
      "memory usage: 640.0 bytes\n"
     ]
    }
   ],
   "source": [
    "test_set = df_test['Open']\n",
    "test_set = pd.DataFrame(test_set)\n",
    "test_set.info()"
   ]
  },
  {
   "cell_type": "code",
   "execution_count": 20,
   "metadata": {},
   "outputs": [],
   "source": [
    "df_total = pd.concat((df['Open'], df_test['Open']), axis = 0)\n",
    "inputs = df_total[len(df_total) - len(df_test) - 60:].values\n",
    "inputs = inputs.reshape(-1,1)\n",
    "inputs = sc.transform(inputs)\n",
    "X_test = []\n",
    "for i in range(60, 100):\n",
    "    X_test.append(inputs[i-60:i, 0])\n",
    "X_test = np.array(X_test)\n",
    "X_test = np.reshape(X_test, (X_test.shape[0], X_test.shape[1], 1))\n",
    "\n",
    "predicted_stock_price = regressor.predict(X_test)\n",
    "predicted_stock_price = sc.inverse_transform(predicted_stock_price)"
   ]
  },
  {
   "cell_type": "code",
   "execution_count": 21,
   "metadata": {},
   "outputs": [
    {
     "data": {
      "text/plain": [
       "array([[ 25.951607],\n",
       "       [ 64.44948 ],\n",
       "       [169.23969 ],\n",
       "       [261.0002  ],\n",
       "       [286.29346 ],\n",
       "       [287.26883 ],\n",
       "       [289.5158  ],\n",
       "       [290.4369  ],\n",
       "       [292.52087 ],\n",
       "       [294.6433  ],\n",
       "       [300.12875 ],\n",
       "       [304.52194 ],\n",
       "       [306.20538 ],\n",
       "       [307.0234  ],\n",
       "       [304.0128  ],\n",
       "       [303.84885 ],\n",
       "       [303.8647  ],\n",
       "       [304.45816 ],\n",
       "       [302.44806 ],\n",
       "       [297.68195 ],\n",
       "       [298.8348  ],\n",
       "       [300.57114 ],\n",
       "       [303.3642  ],\n",
       "       [301.4653  ],\n",
       "       [298.7892  ],\n",
       "       [299.50076 ],\n",
       "       [299.9262  ],\n",
       "       [300.68512 ],\n",
       "       [300.73596 ],\n",
       "       [300.33862 ],\n",
       "       [299.1517  ],\n",
       "       [297.78442 ],\n",
       "       [298.35306 ],\n",
       "       [297.6784  ],\n",
       "       [296.93057 ],\n",
       "       [295.40234 ],\n",
       "       [291.475   ],\n",
       "       [289.28784 ],\n",
       "       [286.61115 ],\n",
       "       [286.04318 ]], dtype=float32)"
      ]
     },
     "execution_count": 21,
     "metadata": {},
     "output_type": "execute_result"
    }
   ],
   "source": [
    "predicted_stock_price = pd.DataFrame(predicted_stock_price)\n",
    "predicted_stock_price = predicted_stock_price.values\n",
    "predicted_stock_price"
   ]
  },
  {
   "cell_type": "code",
   "execution_count": 22,
   "metadata": {},
   "outputs": [
    {
     "data": {
      "text/plain": [
       "array([257.26 , 281.1  , 286.53 , 300.95 , 297.26 , 318.62 , 322.63 ,\n",
       "       320.   , 315.36 , 324.74 , 324.19 , 321.47 , 323.6  , 314.18 ,\n",
       "       322.37 , 322.57 , 323.52 , 315.31 , 304.3  , 320.93 , 320.544,\n",
       "       324.45 , 312.6  , 310.06 , 320.25 , 317.92 , 318.58 , 317.19 ,\n",
       "       316.27 , 313.59 , 311.85 , 316.7  , 311.64 , 310.6  , 307.235,\n",
       "       297.16 , 299.84 , 293.79 , 297.15 , 296.24 ])"
      ]
     },
     "execution_count": 22,
     "metadata": {},
     "output_type": "execute_result"
    }
   ],
   "source": [
    "real_stock_price"
   ]
  },
  {
   "cell_type": "code",
   "execution_count": 23,
   "metadata": {},
   "outputs": [
    {
     "data": {
      "image/png": "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\n",
      "text/plain": [
       "<Figure size 432x288 with 1 Axes>"
      ]
     },
     "metadata": {
      "needs_background": "light"
     },
     "output_type": "display_data"
    }
   ],
   "source": [
    "# Plot the results\n",
    "\n",
    "plt.plot(real_stock_price, color = 'red', label = 'Real Apple Stock Price')\n",
    "plt.plot(predicted_stock_price, color = 'blue', label = 'Predicted Apple Stock Price')\n",
    "plt.title('Apple Stock Price Prediction')\n",
    "plt.xlabel('Time')\n",
    "plt.ylabel('Stock Price')\n",
    "plt.legend()\n",
    "plt.show()"
   ]
  },
  {
   "cell_type": "code",
   "execution_count": null,
   "metadata": {},
   "outputs": [],
   "source": []
  }
 ],
 "metadata": {
  "kernelspec": {
   "display_name": "Python 3 (ipykernel)",
   "language": "python",
   "name": "python3"
  },
  "language_info": {
   "codemirror_mode": {
    "name": "ipython",
    "version": 3
   },
   "file_extension": ".py",
   "mimetype": "text/x-python",
   "name": "python",
   "nbconvert_exporter": "python",
   "pygments_lexer": "ipython3",
   "version": "3.9.5"
  }
 },
 "nbformat": 4,
 "nbformat_minor": 4
}
