{
 "cells": [
  {
   "cell_type": "code",
   "execution_count": 1,
   "metadata": {
    "_cell_guid": "b1076dfc-b9ad-4769-8c92-a6c4dae69d19",
    "_uuid": "8f2839f25d086af736a60e9eeb907d3b93b6e0e5"
   },
   "outputs": [],
   "source": [
    "import numpy as np \n",
    "import pandas as pd"
   ]
  },
  {
   "cell_type": "code",
   "execution_count": 2,
   "metadata": {
    "_cell_guid": "79c7e3d0-c299-4dcb-8224-4455121ee9b0",
    "_uuid": "d629ff2d2480ee46fbb7e2d37f6b5fab8052498a"
   },
   "outputs": [],
   "source": [
    "# Import libraries\n",
    "\n",
    "import matplotlib.pyplot as plt\n",
    "import datetime\n",
    "\n",
    "# Import dataset\n",
    "\n",
    "df = pd.read_csv(r'C:\\Users\\91763\\Downloads\\Apple Stock Prediction-main/AAPL_stock.csv', index_col='Date', parse_dates=True)"
   ]
  },
  {
   "cell_type": "code",
   "execution_count": 3,
   "metadata": {},
   "outputs": [
    {
     "data": {
      "text/plain": [
       " Close/Last    False\n",
       " Volume        False\n",
       " Open          False\n",
       " High          False\n",
       " Low           False\n",
       "dtype: bool"
      ]
     },
     "execution_count": 3,
     "metadata": {},
     "output_type": "execute_result"
    }
   ],
   "source": [
    "# Test if missing values exist\n",
    "\n",
    "df.isna().any()"
   ]
  },
  {
   "cell_type": "code",
   "execution_count": 4,
   "metadata": {},
   "outputs": [
    {
     "name": "stdout",
     "output_type": "stream",
     "text": [
      "<class 'pandas.core.frame.DataFrame'>\n",
      "DatetimeIndex: 2518 entries, 2020-02-28 to 2010-03-01\n",
      "Data columns (total 5 columns):\n",
      " #   Column       Non-Null Count  Dtype \n",
      "---  ------       --------------  ----- \n",
      " 0    Close/Last  2518 non-null   object\n",
      " 1    Volume      2518 non-null   int64 \n",
      " 2    Open        2518 non-null   object\n",
      " 3    High        2518 non-null   object\n",
      " 4    Low         2518 non-null   object\n",
      "dtypes: int64(1), object(4)\n",
      "memory usage: 118.0+ KB\n"
     ]
    }
   ],
   "source": [
    "df.info()"
   ]
  },
  {
   "cell_type": "code",
   "execution_count": 5,
   "metadata": {},
   "outputs": [
    {
     "name": "stderr",
     "output_type": "stream",
     "text": [
      "C:\\Users\\91763\\AppData\\Local\\Temp/ipykernel_12948/1767733630.py:4: FutureWarning: The default value of regex will change from True to False in a future version. In addition, single character regular expressions will*not* be treated as literal strings when regex=True.\n",
      "  df['Close'] = df['Close'].str.replace('$', '').astype('float')\n",
      "C:\\Users\\91763\\AppData\\Local\\Temp/ipykernel_12948/1767733630.py:5: FutureWarning: The default value of regex will change from True to False in a future version. In addition, single character regular expressions will*not* be treated as literal strings when regex=True.\n",
      "  df['Open'] = df['Open'].str.replace('$', '').astype('float')\n",
      "C:\\Users\\91763\\AppData\\Local\\Temp/ipykernel_12948/1767733630.py:6: FutureWarning: The default value of regex will change from True to False in a future version. In addition, single character regular expressions will*not* be treated as literal strings when regex=True.\n",
      "  df['High'] = df['High'].str.replace('$', '').astype('float')\n",
      "C:\\Users\\91763\\AppData\\Local\\Temp/ipykernel_12948/1767733630.py:7: FutureWarning: The default value of regex will change from True to False in a future version. In addition, single character regular expressions will*not* be treated as literal strings when regex=True.\n",
      "  df['Low'] = df['Low'].str.replace('$', '').astype('float')\n"
     ]
    },
    {
     "data": {
      "text/html": [
       "<div>\n",
       "<style scoped>\n",
       "    .dataframe tbody tr th:only-of-type {\n",
       "        vertical-align: middle;\n",
       "    }\n",
       "\n",
       "    .dataframe tbody tr th {\n",
       "        vertical-align: top;\n",
       "    }\n",
       "\n",
       "    .dataframe thead th {\n",
       "        text-align: right;\n",
       "    }\n",
       "</style>\n",
       "<table border=\"1\" class=\"dataframe\">\n",
       "  <thead>\n",
       "    <tr style=\"text-align: right;\">\n",
       "      <th></th>\n",
       "      <th>Close</th>\n",
       "      <th>Volume</th>\n",
       "      <th>Open</th>\n",
       "      <th>High</th>\n",
       "      <th>Low</th>\n",
       "    </tr>\n",
       "    <tr>\n",
       "      <th>Date</th>\n",
       "      <th></th>\n",
       "      <th></th>\n",
       "      <th></th>\n",
       "      <th></th>\n",
       "      <th></th>\n",
       "    </tr>\n",
       "  </thead>\n",
       "  <tbody>\n",
       "    <tr>\n",
       "      <th>2020-02-28</th>\n",
       "      <td>273.36</td>\n",
       "      <td>106721200</td>\n",
       "      <td>257.26</td>\n",
       "      <td>278.41</td>\n",
       "      <td>256.37</td>\n",
       "    </tr>\n",
       "    <tr>\n",
       "      <th>2020-02-27</th>\n",
       "      <td>273.52</td>\n",
       "      <td>80151380</td>\n",
       "      <td>281.10</td>\n",
       "      <td>286.00</td>\n",
       "      <td>272.96</td>\n",
       "    </tr>\n",
       "    <tr>\n",
       "      <th>2020-02-26</th>\n",
       "      <td>292.65</td>\n",
       "      <td>49678430</td>\n",
       "      <td>286.53</td>\n",
       "      <td>297.88</td>\n",
       "      <td>286.50</td>\n",
       "    </tr>\n",
       "    <tr>\n",
       "      <th>2020-02-25</th>\n",
       "      <td>288.08</td>\n",
       "      <td>57668360</td>\n",
       "      <td>300.95</td>\n",
       "      <td>302.53</td>\n",
       "      <td>286.13</td>\n",
       "    </tr>\n",
       "    <tr>\n",
       "      <th>2020-02-24</th>\n",
       "      <td>298.18</td>\n",
       "      <td>55548830</td>\n",
       "      <td>297.26</td>\n",
       "      <td>304.18</td>\n",
       "      <td>289.23</td>\n",
       "    </tr>\n",
       "  </tbody>\n",
       "</table>\n",
       "</div>"
      ],
      "text/plain": [
       "             Close     Volume    Open    High     Low\n",
       "Date                                                 \n",
       "2020-02-28  273.36  106721200  257.26  278.41  256.37\n",
       "2020-02-27  273.52   80151380  281.10  286.00  272.96\n",
       "2020-02-26  292.65   49678430  286.53  297.88  286.50\n",
       "2020-02-25  288.08   57668360  300.95  302.53  286.13\n",
       "2020-02-24  298.18   55548830  297.26  304.18  289.23"
      ]
     },
     "execution_count": 5,
     "metadata": {},
     "output_type": "execute_result"
    }
   ],
   "source": [
    "# Cleaning data\n",
    "\n",
    "df = df.rename(columns={' Close/Last':'Close', ' Volume':'Volume', ' Open': 'Open', ' High':'High', ' Low':'Low'})\n",
    "df['Close'] = df['Close'].str.replace('$', '').astype('float')\n",
    "df['Open'] = df['Open'].str.replace('$', '').astype('float')\n",
    "df['High'] = df['High'].str.replace('$', '').astype('float')\n",
    "df['Low'] = df['Low'].str.replace('$', '').astype('float')\n",
    "df.head()"
   ]
  },
  {
   "cell_type": "code",
   "execution_count": 6,
   "metadata": {},
   "outputs": [
    {
     "data": {
      "text/plain": [
       "Close     float64\n",
       "Volume      int64\n",
       "Open      float64\n",
       "High      float64\n",
       "Low       float64\n",
       "dtype: object"
      ]
     },
     "execution_count": 6,
     "metadata": {},
     "output_type": "execute_result"
    }
   ],
   "source": [
    "df.dtypes"
   ]
  },
  {
   "cell_type": "code",
   "execution_count": 7,
   "metadata": {},
   "outputs": [],
   "source": [
    "# Split training and testing datasets\n",
    "\n",
    "df_test = df.head(40)\n",
    "df = df[40:]"
   ]
  },
  {
   "cell_type": "code",
   "execution_count": 8,
   "metadata": {},
   "outputs": [
    {
     "data": {
      "text/plain": [
       "<AxesSubplot:xlabel='Date'>"
      ]
     },
     "execution_count": 8,
     "metadata": {},
     "output_type": "execute_result"
    },
    {
     "data": {
      "image/png": "[encoded data removed]",
      "text/plain": [
       "<Figure size 1152x432 with 1 Axes>"
      ]
     },
     "metadata": {
      "needs_background": "light"
     },
     "output_type": "display_data"
    }
   ],
   "source": [
    "# Moving average\n",
    "\n",
    "df['Open'].plot(figsize=(16, 6))\n",
    "df.rolling(100).mean()['Open'].plot()"
   ]
  },
  {
   "cell_type": "code",
   "execution_count": 9,
   "metadata": {},
   "outputs": [],
   "source": [
    "training_df = df['Open']\n",
    "training_df = pd.DataFrame(training_df)"
   ]
  },
  {
   "cell_type": "code",
   "execution_count": 10,
   "metadata": {},
   "outputs": [],
   "source": [
    "# Feature scaling\n",
    "\n",
    "from sklearn.preprocessing import MinMaxScaler\n",
    "sc = MinMaxScaler(feature_range = (0,1))\n",
    "training_df_scaled = sc.fit_transform(training_df)"
   ]
  },
  {
   "cell_type": "code",
   "execution_count": 11,
   "metadata": {},
   "outputs": [
    {
     "data": {
      "text/plain": [
       "array([[[0.99545328],\n",
       "        [0.99365752],\n",
       "        [1.        ],\n",
       "        ...,\n",
       "        [0.75512671],\n",
       "        [0.75050358],\n",
       "        [0.75222293]],\n",
       "\n",
       "       [[0.99365752],\n",
       "        [1.        ],\n",
       "        [0.97592914],\n",
       "        ...,\n",
       "        [0.75050358],\n",
       "        [0.75222293],\n",
       "        [0.74981584]],\n",
       "\n",
       "       [[1.        ],\n",
       "        [0.97592914],\n",
       "        [0.97543243],\n",
       "        ...,\n",
       "        [0.75222293],\n",
       "        [0.74981584],\n",
       "        [0.72226807]],\n",
       "\n",
       "       ...,\n",
       "\n",
       "       [[0.02927705],\n",
       "        [0.02448045],\n",
       "        [0.02419657],\n",
       "        ...,\n",
       "        [0.00685561],\n",
       "        [0.00778368],\n",
       "        [0.00501629]],\n",
       "\n",
       "       [[0.02448045],\n",
       "        [0.02419657],\n",
       "        [0.01833971],\n",
       "        ...,\n",
       "        [0.00778368],\n",
       "        [0.00501629],\n",
       "        [0.00192682]],\n",
       "\n",
       "       [[0.02419657],\n",
       "        [0.01833971],\n",
       "        [0.02266826],\n",
       "        ...,\n",
       "        [0.00501629],\n",
       "        [0.00192682],\n",
       "        [0.00174151]]])"
      ]
     },
     "execution_count": 11,
     "metadata": {},
     "output_type": "execute_result"
    }
   ],
   "source": [
    "# Create structure with 60 timesteps and 1 output\n",
    "\n",
    "X_train = []\n",
    "y_train = []\n",
    "for i in range(60, 2477):\n",
    "    X_train.append(training_df_scaled[i-60:i, 0])\n",
    "    y_train.append(training_df_scaled[i, 0])\n",
    "X_train, y_train = np.array(X_train), np.array(y_train)\n",
    "\n",
    "\n",
    "# Reshape\n",
    "\n",
    "X_train = np.reshape(X_train, (X_train.shape[0], X_train.shape[1], 1))\n",
    "X_train"
   ]
  },
  {
   "cell_type": "code",
   "execution_count": 12,
   "metadata": {},
   "outputs": [],
   "source": [
    "# Import Keras\n",
    "\n",
    "from keras.models import Sequential\n",
    "from keras.layers import Dense\n",
    "from keras.layers import LSTM\n",
    "from keras.layers import Dropout"
   ]
  },
  {
   "cell_type": "code",
   "execution_count": 13,
   "metadata": {},
   "outputs": [],
   "source": [
    "# Initialize RNN\n",
    "\n",
    "regressor = Sequential()"
   ]
  },
  {
   "cell_type": "code",
   "execution_count": 14,
   "metadata": {},
   "outputs": [],
   "source": [
    "# First LSTM layer\n",
    "\n",
    "regressor.add(LSTM(units = 50, return_sequences = True, input_shape = (X_train.shape[1], 1)))\n",
    "regressor.add(Dropout(0.2))\n",
    "\n",
    "\n",
    "# Second LSTM layer\n",
    "\n",
    "regressor.add(LSTM(units = 50, return_sequences = True))\n",
    "regressor.add(Dropout(0.2))\n",
    "\n",
    "\n",
    "# Thirs LSTM layer\n",
    "\n",
    "regressor.add(LSTM(units = 50, return_sequences = True))\n",
    "regressor.add(Dropout(0.2))\n",
    "\n",
    "\n",
    "# Fourth LSTM layer\n",
    "\n",
    "regressor.add(LSTM(units = 50))\n",
    "regressor.add(Dropout(0.2))\n",
    "\n",
    "              \n",
    "# Output layer\n",
    "\n",
    "regressor.add(Dense(units = 1))"
   ]
  },
  {
   "cell_type": "code",
   "execution_count": 15,
   "metadata": {},
   "outputs": [
    {
     "name": "stdout",
     "output_type": "stream",
     "text": [
      "Epoch 1/100\n",
      "76/76 [==============================] - 18s 53ms/step - loss: 0.0218\n",
      "Epoch 2/100\n",
      "76/76 [==============================] - 4s 54ms/step - loss: 0.0024\n",
      "Epoch 3/100\n",
      "76/76 [==============================] - 4s 55ms/step - loss: 0.0021\n",
      "Epoch 4/100\n",
      "76/76 [==============================] - 4s 52ms/step - loss: 0.0018\n",
      "Epoch 5/100\n",
      "76/76 [==============================] - 4s 46ms/step - loss: 0.0013\n",
      "Epoch 6/100\n",
      "76/76 [==============================] - 4s 46ms/step - loss: 0.0016\n",
      "Epoch 7/100\n",
      "76/76 [==============================] - 4s 46ms/step - loss: 0.0014\n",
      "Epoch 8/100\n",
      "76/76 [==============================] - 4s 46ms/step - loss: 0.0015\n",
      "Epoch 9/100\n",
      "76/76 [==============================] - 4s 47ms/step - loss: 0.0013\n",
      "Epoch 10/100\n",
      "76/76 [==============================] - 5s 60ms/step - loss: 0.0015\n",
      "Epoch 11/100\n",
      "76/76 [==============================] - 4s 54ms/step - loss: 0.0011\n",
      "Epoch 12/100\n",
      "76/76 [==============================] - 4s 50ms/step - loss: 0.0011\n",
      "Epoch 13/100\n",
      "76/76 [==============================] - 4s 47ms/step - loss: 9.8271e-04\n",
      "Epoch 14/100\n",
      "76/76 [==============================] - 4s 48ms/step - loss: 9.8213e-04\n",
      "Epoch 15/100\n",
      "76/76 [==============================] - 4s 48ms/step - loss: 0.0011\n",
      "Epoch 16/100\n",
      "76/76 [==============================] - 4s 49ms/step - loss: 0.0010\n",
      "Epoch 17/100\n",
      "76/76 [==============================] - 4s 48ms/step - loss: 9.6602e-04\n",
      "Epoch 18/100\n",
      "76/76 [==============================] - 4s 49ms/step - loss: 9.6254e-04\n",
      "Epoch 19/100\n",
      "76/76 [==============================] - 4s 50ms/step - loss: 8.8022e-04\n",
      "Epoch 20/100\n",
      "76/76 [==============================] - 4s 49ms/step - loss: 8.1652e-04\n",
      "Epoch 21/100\n",
      "76/76 [==============================] - 4s 50ms/step - loss: 9.3067e-04\n",
      "Epoch 22/100\n",
      "76/76 [==============================] - 4s 52ms/step - loss: 8.2015e-04\n",
      "Epoch 23/100\n",
      "76/76 [==============================] - 4s 57ms/step - loss: 7.9351e-04\n",
      "Epoch 24/100\n",
      "76/76 [==============================] - 4s 51ms/step - loss: 8.1550e-04\n",
      "Epoch 25/100\n",
      "76/76 [==============================] - 4s 53ms/step - loss: 7.7613e-04\n",
      "Epoch 26/100\n",
      "76/76 [==============================] - 4s 58ms/step - loss: 8.2853e-04\n",
      "Epoch 27/100\n",
      "76/76 [==============================] - 4s 59ms/step - loss: 7.6946e-04\n",
      "Epoch 28/100\n",
      "76/76 [==============================] - 5s 61ms/step - loss: 7.8027e-04\n",
      "Epoch 29/100\n",
      "76/76 [==============================] - 4s 55ms/step - loss: 7.2168e-04\n",
      "Epoch 30/100\n",
      "76/76 [==============================] - 4s 55ms/step - loss: 7.4633e-04\n",
      "Epoch 31/100\n",
      "76/76 [==============================] - 4s 58ms/step - loss: 7.1657e-04\n",
      "Epoch 32/100\n",
      "76/76 [==============================] - 4s 55ms/step - loss: 8.1463e-04\n",
      "Epoch 33/100\n",
      "76/76 [==============================] - 4s 56ms/step - loss: 7.2030e-04\n",
      "Epoch 34/100\n",
      "76/76 [==============================] - 4s 55ms/step - loss: 5.6643e-04\n",
      "Epoch 35/100\n",
      "76/76 [==============================] - 4s 55ms/step - loss: 6.9914e-04\n",
      "Epoch 36/100\n",
      "76/76 [==============================] - 5s 59ms/step - loss: 6.2567e-04\n",
      "Epoch 37/100\n",
      "76/76 [==============================] - 4s 57ms/step - loss: 6.6563e-04\n",
      "Epoch 38/100\n",
      "76/76 [==============================] - 4s 53ms/step - loss: 6.1578e-04\n",
      "Epoch 39/100\n",
      "76/76 [==============================] - 4s 52ms/step - loss: 5.6625e-04\n",
      "Epoch 40/100\n",
      "76/76 [==============================] - 4s 55ms/step - loss: 6.0216e-04\n",
      "Epoch 41/100\n",
      "76/76 [==============================] - 4s 57ms/step - loss: 5.8724e-04\n",
      "Epoch 42/100\n",
      "76/76 [==============================] - 4s 55ms/step - loss: 5.9487e-04\n",
      "Epoch 43/100\n",
      "76/76 [==============================] - 4s 52ms/step - loss: 6.0725e-04\n",
      "Epoch 44/100\n",
      "76/76 [==============================] - 4s 57ms/step - loss: 5.7408e-04\n",
      "Epoch 45/100\n",
      "76/76 [==============================] - 5s 60ms/step - loss: 5.6099e-04\n",
      "Epoch 46/100\n",
      "76/76 [==============================] - 4s 55ms/step - loss: 5.0066e-04\n",
      "Epoch 47/100\n",
      "76/76 [==============================] - 5s 61ms/step - loss: 5.7885e-04\n",
      "Epoch 48/100\n",
      "76/76 [==============================] - 5s 66ms/step - loss: 5.2251e-04\n",
      "Epoch 49/100\n",
      "76/76 [==============================] - 4s 51ms/step - loss: 4.5383e-04\n",
      "Epoch 50/100\n",
      "76/76 [==============================] - 4s 49ms/step - loss: 5.0377e-04\n",
      "Epoch 51/100\n",
      "76/76 [==============================] - 4s 49ms/step - loss: 5.8434e-04\n",
      "Epoch 52/100\n",
      "76/76 [==============================] - 4s 49ms/step - loss: 5.3620e-04\n",
      "Epoch 53/100\n",
      "76/76 [==============================] - 4s 49ms/step - loss: 5.3822e-04\n",
      "Epoch 54/100\n",
      "76/76 [==============================] - 4s 49ms/step - loss: 6.1089e-04\n",
      "Epoch 55/100\n",
      "76/76 [==============================] - 4s 49ms/step - loss: 5.9110e-04\n",
      "Epoch 56/100\n",
      "76/76 [==============================] - 4s 48ms/step - loss: 5.5528e-04\n",
      "Epoch 57/100\n",
      "76/76 [==============================] - 4s 49ms/step - loss: 5.8618e-04\n",
      "Epoch 58/100\n",
      "76/76 [==============================] - 4s 49ms/step - loss: 5.3796e-04\n",
      "Epoch 59/100\n",
      "76/76 [==============================] - 4s 49ms/step - loss: 5.2526e-04\n",
      "Epoch 60/100\n",
      "76/76 [==============================] - 4s 49ms/step - loss: 5.2405e-04\n",
      "Epoch 61/100\n",
      "76/76 [==============================] - 4s 49ms/step - loss: 5.6354e-04\n",
      "Epoch 62/100\n",
      "76/76 [==============================] - 4s 48ms/step - loss: 5.0875e-04\n",
      "Epoch 63/100\n",
      "76/76 [==============================] - 4s 49ms/step - loss: 4.9493e-04\n",
      "Epoch 64/100\n",
      "76/76 [==============================] - 4s 49ms/step - loss: 5.3732e-04\n",
      "Epoch 65/100\n",
      "76/76 [==============================] - 4s 54ms/step - loss: 5.8749e-04\n",
      "Epoch 66/100\n",
      "76/76 [==============================] - 4s 56ms/step - loss: 6.2357e-04\n",
      "Epoch 67/100\n",
      "76/76 [==============================] - 4s 53ms/step - loss: 5.4653e-04\n",
      "Epoch 68/100\n",
      "76/76 [==============================] - 4s 54ms/step - loss: 4.6727e-04\n",
      "Epoch 69/100\n",
      "76/76 [==============================] - 4s 54ms/step - loss: 4.6144e-04\n",
      "Epoch 70/100\n",
      "76/76 [==============================] - 4s 54ms/step - loss: 4.6421e-04\n",
      "Epoch 71/100\n",
      "76/76 [==============================] - 4s 54ms/step - loss: 5.2536e-04\n",
      "Epoch 72/100\n",
      "76/76 [==============================] - 4s 54ms/step - loss: 4.6949e-04\n",
      "Epoch 73/100\n",
      "76/76 [==============================] - 4s 55ms/step - loss: 4.6768e-04\n",
      "Epoch 74/100\n",
      "76/76 [==============================] - 4s 54ms/step - loss: 5.8535e-04\n",
      "Epoch 75/100\n",
      "76/76 [==============================] - 4s 54ms/step - loss: 4.7988e-04\n",
      "Epoch 76/100\n",
      "76/76 [==============================] - 4s 54ms/step - loss: 5.9912e-04\n",
      "Epoch 77/100\n",
      "76/76 [==============================] - 4s 54ms/step - loss: 4.1512e-04\n",
      "Epoch 78/100\n",
      "76/76 [==============================] - 4s 54ms/step - loss: 5.0579e-04\n",
      "Epoch 79/100\n",
      "76/76 [==============================] - 4s 55ms/step - loss: 5.4043e-04\n",
      "Epoch 80/100\n",
      "76/76 [==============================] - 4s 54ms/step - loss: 4.8768e-04\n",
      "Epoch 81/100\n",
      "76/76 [==============================] - 4s 54ms/step - loss: 4.7349e-04\n",
      "Epoch 82/100\n",
      "76/76 [==============================] - 4s 54ms/step - loss: 4.7376e-04\n",
      "Epoch 83/100\n",
      "76/76 [==============================] - 4s 56ms/step - loss: 4.7821e-04\n",
      "Epoch 84/100\n",
      "76/76 [==============================] - 4s 54ms/step - loss: 4.6111e-04\n",
      "Epoch 85/100\n",
      "76/76 [==============================] - 4s 54ms/step - loss: 4.3969e-04\n",
      "Epoch 86/100\n",
      "76/76 [==============================] - 4s 54ms/step - loss: 4.9113e-04\n",
      "Epoch 87/100\n",
      "76/76 [==============================] - 4s 54ms/step - loss: 4.2993e-04\n",
      "Epoch 88/100\n",
      "76/76 [==============================] - 4s 55ms/step - loss: 5.0553e-04\n",
      "Epoch 89/100\n",
      "76/76 [==============================] - 4s 54ms/step - loss: 4.3029e-04\n",
      "Epoch 90/100\n",
      "76/76 [==============================] - 4s 54ms/step - loss: 4.4732e-04\n",
      "Epoch 91/100\n",
      "76/76 [==============================] - 4s 54ms/step - loss: 4.9392e-04\n",
      "Epoch 92/100\n",
      "76/76 [==============================] - 4s 54ms/step - loss: 4.5162e-04\n",
      "Epoch 93/100\n",
      "76/76 [==============================] - 4s 54ms/step - loss: 4.6032e-04\n",
      "Epoch 94/100\n",
      "76/76 [==============================] - 4s 55ms/step - loss: 4.7004e-04\n",
      "Epoch 95/100\n",
      "76/76 [==============================] - 4s 54ms/step - loss: 4.0107e-04\n",
      "Epoch 96/100\n",
      "76/76 [==============================] - 4s 54ms/step - loss: 4.0771e-04\n",
      "Epoch 97/100\n"
     ]
    },
    {
     "name": "stdout",
     "output_type": "stream",
     "text": [
      "76/76 [==============================] - 4s 51ms/step - loss: 5.6284e-04\n",
      "Epoch 98/100\n",
      "76/76 [==============================] - 4s 51ms/step - loss: 4.1345e-04\n",
      "Epoch 99/100\n",
      "76/76 [==============================] - 4s 52ms/step - loss: 4.8688e-04\n",
      "Epoch 100/100\n",
      "76/76 [==============================] - 4s 52ms/step - loss: 4.7279e-04\n"
     ]
    },
    {
     "data": {
      "text/plain": [
       "<keras.callbacks.History at 0x208a43edbe0>"
      ]
     },
     "execution_count": 15,
     "metadata": {},
     "output_type": "execute_result"
    }
   ],
   "source": [
    "# Compile RNN\n",
    "\n",
    "regressor.compile(optimizer = 'adam', loss = 'mean_squared_error')\n",
    "\n",
    "\n",
    "# Fit RNN\n",
    "\n",
    "regressor.fit(X_train, y_train, epochs = 100, batch_size = 32)"
   ]
  },
  {
   "cell_type": "code",
   "execution_count": 16,
   "metadata": {},
   "outputs": [
    {
     "data": {
      "text/plain": [
       "array([257.26 , 281.1  , 286.53 , 300.95 , 297.26 , 318.62 , 322.63 ,\n",
       "       320.   , 315.36 , 324.74 , 324.19 , 321.47 , 323.6  , 314.18 ,\n",
       "       322.37 , 322.57 , 323.52 , 315.31 , 304.3  , 320.93 , 320.544,\n",
       "       324.45 , 312.6  , 310.06 , 320.25 , 317.92 , 318.58 , 317.19 ,\n",
       "       316.27 , 313.59 , 311.85 , 316.7  , 311.64 , 310.6  , 307.235,\n",
       "       297.16 , 299.84 , 293.79 , 297.15 , 296.24 ])"
      ]
     },
     "execution_count": 16,
     "metadata": {},
     "output_type": "execute_result"
    }
   ],
   "source": [
    "real_stock_price = df_test['Open'].values\n",
    "real_stock_price"
   ]
  },
  {
   "cell_type": "code",
   "execution_count": 17,
   "metadata": {},
   "outputs": [
    {
     "name": "stdout",
     "output_type": "stream",
     "text": [
      "<class 'pandas.core.frame.DataFrame'>\n",
      "DatetimeIndex: 40 entries, 2020-02-28 to 2020-01-02\n",
      "Data columns (total 5 columns):\n",
      " #   Column  Non-Null Count  Dtype  \n",
      "---  ------  --------------  -----  \n",
      " 0   Close   40 non-null     float64\n",
      " 1   Volume  40 non-null     int64  \n",
      " 2   Open    40 non-null     float64\n",
      " 3   High    40 non-null     float64\n",
      " 4   Low     40 non-null     float64\n",
      "dtypes: float64(4), int64(1)\n",
      "memory usage: 1.9 KB\n"
     ]
    }
   ],
   "source": [
    "df_test.info()"
   ]
  },
  {
   "cell_type": "code",
   "execution_count": 18,
   "metadata": {},
   "outputs": [
    {
     "name": "stdout",
     "output_type": "stream",
     "text": [
      "<class 'pandas.core.frame.DataFrame'>\n",
      "DatetimeIndex: 40 entries, 2020-02-28 to 2020-01-02\n",
      "Data columns (total 1 columns):\n",
      " #   Column  Non-Null Count  Dtype  \n",
      "---  ------  --------------  -----  \n",
      " 0   Open    40 non-null     float64\n",
      "dtypes: float64(1)\n",
      "memory usage: 640.0 bytes\n"
     ]
    }
   ],
   "source": [
    "test_set = df_test['Open']\n",
    "test_set = pd.DataFrame(test_set)\n",
    "test_set.info()"
   ]
  },
  {
   "cell_type": "code",
   "execution_count": 19,
   "metadata": {},
   "outputs": [],
   "source": [
    "df_total = pd.concat((df['Open'], df_test['Open']), axis = 0)\n",
    "inputs = df_total[len(df_total) - len(df_test) - 60:].values\n",
    "inputs = inputs.reshape(-1,1)\n",
    "inputs = sc.transform(inputs)\n",
    "X_test = []\n",
    "for i in range(60, 100):\n",
    "    X_test.append(inputs[i-60:i, 0])\n",
    "X_test = np.array(X_test)\n",
    "X_test = np.reshape(X_test, (X_test.shape[0], X_test.shape[1], 1))\n",
    "\n",
    "predicted_stock_price = regressor.predict(X_test)\n",
    "predicted_stock_price = sc.inverse_transform(predicted_stock_price)"
   ]
  },
  {
   "cell_type": "code",
   "execution_count": 20,
   "metadata": {},
   "outputs": [
    {
     "data": {
      "text/plain": [
       "array([[ 33.179607],\n",
       "       [ 76.395035],\n",
       "       [185.14595 ],\n",
       "       [271.96136 ],\n",
       "       [289.7669  ],\n",
       "       [281.99252 ],\n",
       "       [277.90463 ],\n",
       "       [277.29    ],\n",
       "       [279.2531  ],\n",
       "       [281.4955  ],\n",
       "       [287.0862  ],\n",
       "       [291.6274  ],\n",
       "       [292.79483 ],\n",
       "       [292.9535  ],\n",
       "       [289.3721  ],\n",
       "       [288.9517  ],\n",
       "       [289.8518  ],\n",
       "       [291.27847 ],\n",
       "       [289.50958 ],\n",
       "       [284.01828 ],\n",
       "       [285.09692 ],\n",
       "       [287.99136 ],\n",
       "       [291.64362 ],\n",
       "       [289.67227 ],\n",
       "       [285.96832 ],\n",
       "       [286.5102  ],\n",
       "       [287.51385 ],\n",
       "       [288.5732  ],\n",
       "       [288.69678 ],\n",
       "       [288.10138 ],\n",
       "       [286.59937 ],\n",
       "       [284.90988 ],\n",
       "       [285.55685 ],\n",
       "       [285.10828 ],\n",
       "       [284.23117 ],\n",
       "       [282.5073  ],\n",
       "       [278.07632 ],\n",
       "       [275.51532 ],\n",
       "       [272.93793 ],\n",
       "       [272.65195 ]], dtype=float32)"
      ]
     },
     "execution_count": 20,
     "metadata": {},
     "output_type": "execute_result"
    }
   ],
   "source": [
    "predicted_stock_price = pd.DataFrame(predicted_stock_price)\n",
    "predicted_stock_price = predicted_stock_price.values\n",
    "predicted_stock_price"
   ]
  },
  {
   "cell_type": "code",
   "execution_count": 21,
   "metadata": {},
   "outputs": [
    {
     "data": {
      "text/plain": [
       "array([257.26 , 281.1  , 286.53 , 300.95 , 297.26 , 318.62 , 322.63 ,\n",
       "       320.   , 315.36 , 324.74 , 324.19 , 321.47 , 323.6  , 314.18 ,\n",
       "       322.37 , 322.57 , 323.52 , 315.31 , 304.3  , 320.93 , 320.544,\n",
       "       324.45 , 312.6  , 310.06 , 320.25 , 317.92 , 318.58 , 317.19 ,\n",
       "       316.27 , 313.59 , 311.85 , 316.7  , 311.64 , 310.6  , 307.235,\n",
       "       297.16 , 299.84 , 293.79 , 297.15 , 296.24 ])"
      ]
     },
     "execution_count": 21,
     "metadata": {},
     "output_type": "execute_result"
    }
   ],
   "source": [
    "real_stock_price"
   ]
  },
  {
   "cell_type": "code",
   "execution_count": 22,
   "metadata": {},
   "outputs": [
    {
     "data": {
      "image/png": "[encoded data removed]",
      "text/plain": [
       "<Figure size 432x288 with 1 Axes>"
      ]
     },
     "metadata": {
      "needs_background": "light"
     },
     "output_type": "display_data"
    }
   ],
   "source": [
    "# Plot the results\n",
    "\n",
    "plt.plot(real_stock_price, color = 'red', label = 'Real Apple Stock Price')\n",
    "plt.plot(predicted_stock_price, color = 'blue', label = 'Predicted Apple Stock Price')\n",
    "plt.title('Apple Stock Price Prediction')\n",
    "plt.xlabel('Time')\n",
    "plt.ylabel('Stock Price')\n",
    "plt.legend()\n",
    "plt.show()"
   ]
  },
  {
   "cell_type": "code",
   "execution_count": null,
   "metadata": {},
   "outputs": [],
   "source": []
  },
  {
   "cell_type": "code",
   "execution_count": null,
   "metadata": {},
   "outputs": [],
   "source": []
  }
 ],
 "metadata": {
  "kernelspec": {
   "display_name": "Python 3 (ipykernel)",
   "language": "python",
   "name": "python3"
  },
  "language_info": {
   "codemirror_mode": {
    "name": "ipython",
    "version": 3
   },
   "file_extension": ".py",
   "mimetype": "text/x-python",
   "name": "python",
   "nbconvert_exporter": "python",
   "pygments_lexer": "ipython3",
   "version": "3.9.5"
  }
 },
 "nbformat": 4,
 "nbformat_minor": 4
}
